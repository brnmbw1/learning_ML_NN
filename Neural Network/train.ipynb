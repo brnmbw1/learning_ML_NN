{
 "cells": [
  {
   "cell_type": "markdown",
   "metadata": {},
   "source": [
    "## **About the data that we are going to use**"
   ]
  },
  {
   "cell_type": "markdown",
   "metadata": {},
   "source": [
    "<p style=\"color:black;font-size:23px;\"><br><b>Haberman's Survival Dataset</b></p>\n",
    "<br>\n",
    "<p>This dataset contains information about the survival of patients who had undergone surgery for a breast cancer at the University of Chicago's Billings Hospital.\n",
    "<br>\n",
    "<br>\n",
    "<b>Columns:</b>\n",
    "<ol>\n",
    "    <li>Age of patient at time of the operation</li>\n",
    "    <li>Patient's year of operation</li>\n",
    "    <li>Number of positive axillary nodes detected</li>\n",
    "    <li>Survival status (class attribute)</li>\n",
    "    <ul>    \n",
    "        <li>1 = the patient survived 5 years or longer</li>\n",
    "        <li>2 = the patient died within 5 year</li>\n",
    "    </u>\n",
    "</ol>\n",
    "<br>\n",
    "Link: <a href=\"https://archive.ics.uci.edu/ml/datasets/Haberman's+Survival\">Haberman's Survival Dataset</a>\n",
    "</p>"
   ]
  },
  {
   "cell_type": "markdown",
   "metadata": {},
   "source": [
    "## **Helpers**"
   ]
  },
  {
   "cell_type": "code",
   "execution_count": 1,
   "metadata": {},
   "outputs": [],
   "source": [
    "class Balance:\n",
    "    \n",
    "    def __init__(self, data):\n",
    "        self.data = data\n",
    "    \n",
    "    def equalizer(self):\n",
    "        '''Rebalances dataset to have an equal number of data for both classes'''\n",
    "\n",
    "        class_2 = self.data[self.data[:, -1] == 2]\n",
    "        class_2_length = len(class_2)\n",
    "        class_1 = self.data[self.data[:, -1] == 1][:class_2_length]\n",
    "        \n",
    "        new_data = np.vstack((class_2, class_1)) # Stacking the data with both classes\n",
    "        \n",
    "        return new_data"
   ]
  },
  {
   "cell_type": "markdown",
   "metadata": {},
   "source": [
    "## **Training Neural Network**"
   ]
  },
  {
   "cell_type": "code",
   "execution_count": 2,
   "metadata": {},
   "outputs": [],
   "source": [
    "import numpy as np\n",
    "import pandas as pd\n",
    "\n",
    "# Import our Neural Network\n",
    "from network import NeuralNetwork\n",
    "\n",
    "# To split dataset into training and test\n",
    "from sklearn.model_selection import train_test_split"
   ]
  },
  {
   "cell_type": "code",
   "execution_count": 3,
   "metadata": {},
   "outputs": [],
   "source": [
    "df = pd.read_csv(\"../Neural Network/data/haberman_csv.csv\")"
   ]
  },
  {
   "cell_type": "code",
   "execution_count": 4,
   "metadata": {},
   "outputs": [
    {
     "data": {
      "text/html": [
       "<div>\n",
       "<style scoped>\n",
       "    .dataframe tbody tr th:only-of-type {\n",
       "        vertical-align: middle;\n",
       "    }\n",
       "\n",
       "    .dataframe tbody tr th {\n",
       "        vertical-align: top;\n",
       "    }\n",
       "\n",
       "    .dataframe thead th {\n",
       "        text-align: right;\n",
       "    }\n",
       "</style>\n",
       "<table border=\"1\" class=\"dataframe\">\n",
       "  <thead>\n",
       "    <tr style=\"text-align: right;\">\n",
       "      <th></th>\n",
       "      <th>Age_of_patient_at_time_of_operation</th>\n",
       "      <th>Patients_year_of_operation</th>\n",
       "      <th>Number_of_positive_axillary_nodes_detected</th>\n",
       "      <th>Survival_status</th>\n",
       "    </tr>\n",
       "  </thead>\n",
       "  <tbody>\n",
       "    <tr>\n",
       "      <th>0</th>\n",
       "      <td>30</td>\n",
       "      <td>64</td>\n",
       "      <td>1</td>\n",
       "      <td>1</td>\n",
       "    </tr>\n",
       "    <tr>\n",
       "      <th>1</th>\n",
       "      <td>30</td>\n",
       "      <td>62</td>\n",
       "      <td>3</td>\n",
       "      <td>1</td>\n",
       "    </tr>\n",
       "    <tr>\n",
       "      <th>2</th>\n",
       "      <td>30</td>\n",
       "      <td>65</td>\n",
       "      <td>0</td>\n",
       "      <td>1</td>\n",
       "    </tr>\n",
       "    <tr>\n",
       "      <th>3</th>\n",
       "      <td>31</td>\n",
       "      <td>59</td>\n",
       "      <td>2</td>\n",
       "      <td>1</td>\n",
       "    </tr>\n",
       "    <tr>\n",
       "      <th>4</th>\n",
       "      <td>31</td>\n",
       "      <td>65</td>\n",
       "      <td>4</td>\n",
       "      <td>1</td>\n",
       "    </tr>\n",
       "  </tbody>\n",
       "</table>\n",
       "</div>"
      ],
      "text/plain": [
       "   Age_of_patient_at_time_of_operation  Patients_year_of_operation  \\\n",
       "0                                   30                          64   \n",
       "1                                   30                          62   \n",
       "2                                   30                          65   \n",
       "3                                   31                          59   \n",
       "4                                   31                          65   \n",
       "\n",
       "   Number_of_positive_axillary_nodes_detected  Survival_status  \n",
       "0                                           1                1  \n",
       "1                                           3                1  \n",
       "2                                           0                1  \n",
       "3                                           2                1  \n",
       "4                                           4                1  "
      ]
     },
     "execution_count": 4,
     "metadata": {},
     "output_type": "execute_result"
    }
   ],
   "source": [
    "df.head()"
   ]
  },
  {
   "cell_type": "code",
   "execution_count": 5,
   "metadata": {},
   "outputs": [
    {
     "name": "stdout",
     "output_type": "stream",
     "text": [
      "<class 'pandas.core.frame.DataFrame'>\n",
      "RangeIndex: 306 entries, 0 to 305\n",
      "Data columns (total 4 columns):\n",
      "Age_of_patient_at_time_of_operation           306 non-null int64\n",
      "Patients_year_of_operation                    306 non-null int64\n",
      "Number_of_positive_axillary_nodes_detected    306 non-null int64\n",
      "Survival_status                               306 non-null int64\n",
      "dtypes: int64(4)\n",
      "memory usage: 9.7 KB\n"
     ]
    }
   ],
   "source": [
    "df.info()"
   ]
  },
  {
   "cell_type": "code",
   "execution_count": 6,
   "metadata": {},
   "outputs": [
    {
     "data": {
      "text/html": [
       "<div>\n",
       "<style scoped>\n",
       "    .dataframe tbody tr th:only-of-type {\n",
       "        vertical-align: middle;\n",
       "    }\n",
       "\n",
       "    .dataframe tbody tr th {\n",
       "        vertical-align: top;\n",
       "    }\n",
       "\n",
       "    .dataframe thead th {\n",
       "        text-align: right;\n",
       "    }\n",
       "</style>\n",
       "<table border=\"1\" class=\"dataframe\">\n",
       "  <thead>\n",
       "    <tr style=\"text-align: right;\">\n",
       "      <th></th>\n",
       "      <th>Age_of_patient_at_time_of_operation</th>\n",
       "      <th>Patients_year_of_operation</th>\n",
       "      <th>Number_of_positive_axillary_nodes_detected</th>\n",
       "      <th>Survival_status</th>\n",
       "    </tr>\n",
       "  </thead>\n",
       "  <tbody>\n",
       "    <tr>\n",
       "      <th>count</th>\n",
       "      <td>306.000000</td>\n",
       "      <td>306.000000</td>\n",
       "      <td>306.000000</td>\n",
       "      <td>306.000000</td>\n",
       "    </tr>\n",
       "    <tr>\n",
       "      <th>mean</th>\n",
       "      <td>52.457516</td>\n",
       "      <td>62.852941</td>\n",
       "      <td>4.026144</td>\n",
       "      <td>1.264706</td>\n",
       "    </tr>\n",
       "    <tr>\n",
       "      <th>std</th>\n",
       "      <td>10.803452</td>\n",
       "      <td>3.249405</td>\n",
       "      <td>7.189654</td>\n",
       "      <td>0.441899</td>\n",
       "    </tr>\n",
       "    <tr>\n",
       "      <th>min</th>\n",
       "      <td>30.000000</td>\n",
       "      <td>58.000000</td>\n",
       "      <td>0.000000</td>\n",
       "      <td>1.000000</td>\n",
       "    </tr>\n",
       "    <tr>\n",
       "      <th>25%</th>\n",
       "      <td>44.000000</td>\n",
       "      <td>60.000000</td>\n",
       "      <td>0.000000</td>\n",
       "      <td>1.000000</td>\n",
       "    </tr>\n",
       "    <tr>\n",
       "      <th>50%</th>\n",
       "      <td>52.000000</td>\n",
       "      <td>63.000000</td>\n",
       "      <td>1.000000</td>\n",
       "      <td>1.000000</td>\n",
       "    </tr>\n",
       "    <tr>\n",
       "      <th>75%</th>\n",
       "      <td>60.750000</td>\n",
       "      <td>65.750000</td>\n",
       "      <td>4.000000</td>\n",
       "      <td>2.000000</td>\n",
       "    </tr>\n",
       "    <tr>\n",
       "      <th>max</th>\n",
       "      <td>83.000000</td>\n",
       "      <td>69.000000</td>\n",
       "      <td>52.000000</td>\n",
       "      <td>2.000000</td>\n",
       "    </tr>\n",
       "  </tbody>\n",
       "</table>\n",
       "</div>"
      ],
      "text/plain": [
       "       Age_of_patient_at_time_of_operation  Patients_year_of_operation  \\\n",
       "count                           306.000000                  306.000000   \n",
       "mean                             52.457516                   62.852941   \n",
       "std                              10.803452                    3.249405   \n",
       "min                              30.000000                   58.000000   \n",
       "25%                              44.000000                   60.000000   \n",
       "50%                              52.000000                   63.000000   \n",
       "75%                              60.750000                   65.750000   \n",
       "max                              83.000000                   69.000000   \n",
       "\n",
       "       Number_of_positive_axillary_nodes_detected  Survival_status  \n",
       "count                                  306.000000       306.000000  \n",
       "mean                                     4.026144         1.264706  \n",
       "std                                      7.189654         0.441899  \n",
       "min                                      0.000000         1.000000  \n",
       "25%                                      0.000000         1.000000  \n",
       "50%                                      1.000000         1.000000  \n",
       "75%                                      4.000000         2.000000  \n",
       "max                                     52.000000         2.000000  "
      ]
     },
     "execution_count": 6,
     "metadata": {},
     "output_type": "execute_result"
    }
   ],
   "source": [
    "df.describe()"
   ]
  },
  {
   "cell_type": "code",
   "execution_count": 7,
   "metadata": {},
   "outputs": [],
   "source": [
    "arr = np.array(df)"
   ]
  },
  {
   "cell_type": "code",
   "execution_count": 8,
   "metadata": {},
   "outputs": [],
   "source": [
    "train, test = train_test_split(arr,\n",
    "                               random_state=4, \n",
    "                               test_size=0.25)"
   ]
  },
  {
   "cell_type": "markdown",
   "metadata": {},
   "source": [
    "**Rebalance the dataset**"
   ]
  },
  {
   "cell_type": "code",
   "execution_count": 9,
   "metadata": {},
   "outputs": [],
   "source": [
    "balanced_data = Balance(train)\n",
    "\n",
    "train = balanced_data.equalizer()"
   ]
  },
  {
   "cell_type": "markdown",
   "metadata": {},
   "source": [
    " "
   ]
  },
  {
   "cell_type": "code",
   "execution_count": 10,
   "metadata": {},
   "outputs": [],
   "source": [
    "cols = train.shape[-1]\n",
    "\n",
    "X_train, Y_train = train[:, :-1], train[:, -1]\n",
    "X_test, Y_test = test[:, :-1], test[:, -1]\n",
    "\n",
    "\n",
    "Y_train = Y_train.reshape(1, Y_train.shape[0])\n",
    "X_train = X_train.T\n",
    "\n",
    "Y_test = Y_test.reshape(1, Y_test.shape[0])\n",
    "X_test = X_test.T"
   ]
  },
  {
   "cell_type": "code",
   "execution_count": 11,
   "metadata": {},
   "outputs": [
    {
     "name": "stdout",
     "output_type": "stream",
     "text": [
      "(3, 126)\n",
      "(1, 126)\n",
      "(3, 77)\n",
      "(1, 77)\n"
     ]
    }
   ],
   "source": [
    "print(X_train.shape)\n",
    "print(Y_train.shape)\n",
    "print(X_test.shape)\n",
    "print(Y_test.shape)"
   ]
  },
  {
   "cell_type": "code",
   "execution_count": 12,
   "metadata": {},
   "outputs": [],
   "source": [
    "# So that Y consists of 0's and 1's\n",
    "Y_train = Y_train - 1 \n",
    "Y_test = Y_test - 1 "
   ]
  },
  {
   "cell_type": "markdown",
   "metadata": {},
   "source": [
    "**Train a model**"
   ]
  },
  {
   "cell_type": "code",
   "execution_count": 13,
   "metadata": {},
   "outputs": [],
   "source": [
    "network = NeuralNetwork(X_train, Y_train, 4)"
   ]
  },
  {
   "cell_type": "code",
   "execution_count": 14,
   "metadata": {},
   "outputs": [
    {
     "name": "stdout",
     "output_type": "stream",
     "text": [
      "0-th iteration Cost function is: 0.6930450132831534\n",
      "1000-th iteration Cost function is: 0.6733752006937102\n",
      "2000-th iteration Cost function is: 0.6324444149497934\n",
      "3000-th iteration Cost function is: 0.6202983202537655\n",
      "4000-th iteration Cost function is: 0.6168491465260753\n",
      "5000-th iteration Cost function is: 0.6124700229435097\n",
      "6000-th iteration Cost function is: 0.6103313758026009\n",
      "\n",
      "Accuracy of the model on training data is: 0.6904761904761905\n"
     ]
    },
    {
     "data": {
      "image/png": "[encoded data removed]",
      "text/plain": [
       "<Figure size 432x288 with 1 Axes>"
      ]
     },
     "metadata": {
      "needs_background": "light"
     },
     "output_type": "display_data"
    }
   ],
   "source": [
    "A2, weights = network.train_model(iters= 7000,lr=.003, plot_cost=True)\n",
    "\n",
    "print()\n",
    "print('Accuracy of the model on training data is: {}'.format(network.accuracy(A2)))"
   ]
  },
  {
   "cell_type": "code",
   "execution_count": 15,
   "metadata": {},
   "outputs": [
    {
     "name": "stdout",
     "output_type": "stream",
     "text": [
      "Accuracy of the model on test data is: 0.7792207792207793\n"
     ]
    }
   ],
   "source": [
    "pred_y = network.predict(X_test, weights)\n",
    "print('Accuracy of the model on test data is: {}'.format(network.accuracy(pred_y, Y_test)))"
   ]
  },
  {
   "cell_type": "markdown",
   "metadata": {},
   "source": [
    " "
   ]
  }
 ],
 "metadata": {
  "kernelspec": {
   "display_name": "Python 3",
   "language": "python",
   "name": "python3"
  },
  "language_info": {
   "codemirror_mode": {
    "name": "ipython",
    "version": 3
   },
   "file_extension": ".py",
   "mimetype": "text/x-python",
   "name": "python",
   "nbconvert_exporter": "python",
   "pygments_lexer": "ipython3",
   "version": "3.7.1"
  }
 },
 "nbformat": 4,
 "nbformat_minor": 4
}
